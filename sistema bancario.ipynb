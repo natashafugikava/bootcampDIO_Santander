{
 "cells": [
  {
   "cell_type": "code",
   "execution_count": null,
   "id": "0441f32a-ef89-47da-b79c-b811c078334f",
   "metadata": {},
   "outputs": [
    {
     "name": "stdin",
     "output_type": "stream",
     "text": [
      "Escolha uma opção:\n",
      "    [d] Depositar\n",
      "    [s] Sacar\n",
      "    [e] Extrato\n",
      "    [q] Sair\n",
      "     d\n"
     ]
    },
    {
     "name": "stdout",
     "output_type": "stream",
     "text": [
      "Depósito\n"
     ]
    },
    {
     "name": "stdin",
     "output_type": "stream",
     "text": [
      "Quando deseja depositar?  400\n"
     ]
    },
    {
     "name": "stdout",
     "output_type": "stream",
     "text": [
      "R$ 400.00 depositado na conta.\n"
     ]
    },
    {
     "name": "stdin",
     "output_type": "stream",
     "text": [
      "Escolha uma opção:\n",
      "    [d] Depositar\n",
      "    [s] Sacar\n",
      "    [e] Extrato\n",
      "    [q] Sair\n",
      "     d\n"
     ]
    },
    {
     "name": "stdout",
     "output_type": "stream",
     "text": [
      "Depósito\n"
     ]
    },
    {
     "name": "stdin",
     "output_type": "stream",
     "text": [
      "Quando deseja depositar?  300\n"
     ]
    },
    {
     "name": "stdout",
     "output_type": "stream",
     "text": [
      "R$ 300.00 depositado na conta.\n"
     ]
    },
    {
     "name": "stdin",
     "output_type": "stream",
     "text": [
      "Escolha uma opção:\n",
      "    [d] Depositar\n",
      "    [s] Sacar\n",
      "    [e] Extrato\n",
      "    [q] Sair\n",
      "     s\n"
     ]
    },
    {
     "name": "stdout",
     "output_type": "stream",
     "text": [
      "Saque\n"
     ]
    },
    {
     "name": "stdin",
     "output_type": "stream",
     "text": [
      "Quando deseja sacar?  500\n"
     ]
    },
    {
     "name": "stdout",
     "output_type": "stream",
     "text": [
      "R$ 500.00 sacados com êxito.\n"
     ]
    },
    {
     "name": "stdin",
     "output_type": "stream",
     "text": [
      "Escolha uma opção:\n",
      "    [d] Depositar\n",
      "    [s] Sacar\n",
      "    [e] Extrato\n",
      "    [q] Sair\n",
      "     s\n"
     ]
    },
    {
     "name": "stdout",
     "output_type": "stream",
     "text": [
      "Saque\n"
     ]
    },
    {
     "name": "stdin",
     "output_type": "stream",
     "text": [
      "Quando deseja sacar?  200\n"
     ]
    },
    {
     "name": "stdout",
     "output_type": "stream",
     "text": [
      "R$ 200.00 sacados com êxito.\n"
     ]
    },
    {
     "name": "stdin",
     "output_type": "stream",
     "text": [
      "Escolha uma opção:\n",
      "    [d] Depositar\n",
      "    [s] Sacar\n",
      "    [e] Extrato\n",
      "    [q] Sair\n",
      "     s\n"
     ]
    },
    {
     "name": "stdout",
     "output_type": "stream",
     "text": [
      "Saque\n"
     ]
    },
    {
     "name": "stdin",
     "output_type": "stream",
     "text": [
      "Quando deseja sacar?  1\n"
     ]
    },
    {
     "name": "stdout",
     "output_type": "stream",
     "text": [
      "Não há saldo suficiente.\n"
     ]
    },
    {
     "name": "stdin",
     "output_type": "stream",
     "text": [
      "Escolha uma opção:\n",
      "    [d] Depositar\n",
      "    [s] Sacar\n",
      "    [e] Extrato\n",
      "    [q] Sair\n",
      "     e\n"
     ]
    },
    {
     "name": "stdout",
     "output_type": "stream",
     "text": [
      "Extrato\n",
      "Depósitos:\n",
      "R$ 400.00\n",
      "R$ 300.00\n",
      "Saques:\n",
      "R$ 500.00\n",
      "R$ 200.00\n",
      "Saldo atual: R$ 0.00\n"
     ]
    }
   ],
   "source": [
    "depositos = []\n",
    "saques = []\n",
    "saldo = 0\n",
    "limite = 500\n",
    "numero_saques = 0\n",
    "limite_saques = 3\n",
    "\n",
    "while True:\n",
    "    opcao = str(input('''Escolha uma opção:\n",
    "    [d] Depositar\n",
    "    [s] Sacar\n",
    "    [e] Extrato\n",
    "    [q] Sair\n",
    "    ''')).lower()\n",
    "\n",
    "    if opcao == 'd':\n",
    "        print('Depósito')\n",
    "        valor = float(input('Quando deseja depositar? '))\n",
    "        if valor > 0:\n",
    "            print(f'R$ {valor:.2f} depositado na conta.')\n",
    "            depositos.append(valor)\n",
    "            saldo += valor\n",
    "        else:\n",
    "            print('Valor inválido, tente novamente.')\n",
    "            \n",
    "    if opcao == 's':\n",
    "        print('Saque')\n",
    "        valor = float(input('Quando deseja sacar? '))\n",
    "        if valor > 0 and valor <= 500:\n",
    "            if numero_saques < limite_saques:\n",
    "                if valor <= saldo:\n",
    "                    numero_saques += 1\n",
    "                    saques.append(valor)\n",
    "                    saldo -= valor\n",
    "                    print(f'R$ {valor:.2f} sacados com êxito.')\n",
    "                else:\n",
    "                    print('Não há saldo suficiente.')\n",
    "            else:\n",
    "                print('Número de saques máximo alcançado.')\n",
    "        else:\n",
    "            print(f'O valor do saque precisa ser positivo e no máximo R$ {limite:.2f}.')\n",
    "            \n",
    "    if opcao == 'e':\n",
    "        print('Extrato')\n",
    "        print('Depósitos:')\n",
    "        for i in depositos:\n",
    "            print(f'R$ {i:.2f}')\n",
    "        print('Saques:')\n",
    "        for i in saques:\n",
    "            print(f'R$ {i:.2f}')            \n",
    "        print(f'Saldo atual: R$ {saldo:.2f}')\n",
    "        \n",
    "    if opcao == 'q':\n",
    "        break"
   ]
  },
  {
   "cell_type": "code",
   "execution_count": 3,
   "id": "a5cbf731-b8eb-41fe-a8dd-65eb88b44413",
   "metadata": {},
   "outputs": [
    {
     "name": "stdout",
     "output_type": "stream",
     "text": [
      "\n",
      "    sa\n",
      "    aa\n",
      "\n"
     ]
    }
   ],
   "source": [
    "print('''\n",
    "    sa\n",
    "    aa\n",
    "''')"
   ]
  }
 ],
 "metadata": {
  "kernelspec": {
   "display_name": "Python 3 (ipykernel)",
   "language": "python",
   "name": "python3"
  },
  "language_info": {
   "codemirror_mode": {
    "name": "ipython",
    "version": 3
   },
   "file_extension": ".py",
   "mimetype": "text/x-python",
   "name": "python",
   "nbconvert_exporter": "python",
   "pygments_lexer": "ipython3",
   "version": "3.9.13"
  }
 },
 "nbformat": 4,
 "nbformat_minor": 5
}
